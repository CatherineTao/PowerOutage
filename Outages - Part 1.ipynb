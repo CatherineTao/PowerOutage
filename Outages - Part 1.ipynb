{
 "cells": [
  {
   "cell_type": "markdown",
   "metadata": {},
   "source": [
    "# Power Outages\n",
    "This project uses major power outage data in the continental U.S. from January 2000 to July 2016. Here, a major power  outage is defined as a power outage that impacted at least 50,000 customers or caused an unplanned firm load loss of atleast 300MW. Interesting questions to consider include:\n",
    "- Where and when do major power outages tend to occur?\n",
    "- What are the characteristics of major power outages with higher severity? Variables to consider include location, time, climate, land-use characteristics, electricity consumption patterns, economic characteristics, etc. What risk factors may an energy company want to look into when predicting the location and severity of its next major power outage?\n",
    "- What characteristics are associated with each category of cause?\n",
    "- How have characteristics of major power outages changed over time? Is there a clear trend?\n",
    "\n",
    "### Getting the Data\n",
    "The data is downloadable [here](https://engineering.purdue.edu/LASCI/research-data/outages/outagerisks).\n",
    "\n",
    "A data dictionary is available at this [article](https://www.sciencedirect.com/science/article/pii/S2352340918307182) under *Table 1. Variable descriptions*.\n",
    "\n",
    "### Cleaning and EDA\n",
    "- Note that the data is given as an Excel file rather than a CSV. Open the data in Excel or another spreadsheet application and determine which rows and columns of the Excel spreadsheet should be ignored when loading the data in pandas.\n",
    "- Clean the data.\n",
    "    - The power outage start date and time is given by `OUTAGE.START.DATE` and `OUTAGE.START.TIME`. It would be preferable if these two columns were combined into one datetime column. Combine `OUTAGE.START.DATE` and `OUTAGE.START.TIME` into a new datetime column called `OUTAGE.START`. Similarly, combine `OUTAGE.RESTORATION.DATE` and `OUTAGE.RESTORATION.TIME` into a new datetime column called `OUTAGE.RESTORATION`.\n",
    "- Understand the data in ways relevant to your question using univariate and bivariate analysis of the data as well as aggregations.\n",
    "\n",
    "*Hint 1: pandas can load multiple filetypes: `pd.read_csv`, `pd.read_excel`, `pd.read_html`, `pd.read_json`, etc.*\n",
    "\n",
    "*Hint 2: `pd.to_datetime` and `pd.to_timedelta` will be useful here.*\n",
    "\n",
    "*Tip: To visualize geospatial data, consider [Folium](https://python-visualization.github.io/folium/) or another geospatial plotting library.*\n",
    "\n",
    "### Assessment of Missingness\n",
    "- Assess the missingness of a column that is not missing by  design.\n",
    "\n",
    "### Hypothesis Test\n",
    "Find a hypothesis test to perform. You can use the questions at the top of the notebook for inspiration."
   ]
  },
  {
   "cell_type": "markdown",
   "metadata": {},
   "source": [
    "# Summary of Findings\n",
    "\n",
    "### Introduction\n",
    "Our dataset 'outages' included data from events of power outages caused by different reasons throuout the nation. Our dataset included information such as the duration of the power outage, the region, the price of the power and more. By understanding our given data, we narrowed our focus and chose to investigate the two regions of Central and Northeast and see how their power outages are more likely caused by 'severe weather'. By doing this, we will use a hypothesis test, more specifically a permutation test to compare the likeliness of a power outage being caused because of severe weather.\n",
    "\n",
    "### Cleaning and EDA\n",
    "For the data cleaning portion of this project, we were able to combine the OUTAGE.START.DATE and OUTAGE.START.TIME columns in order to create one datetime column called OUTAGE.START. We did this by creating a function which combines these two types of columns into one datetime column.  By creating this function, we were also able to combine the columns OUTAGE.RESTORATION.DATE and OUTAGE.RESTORATION.TIME into one column called OUTAGE.RESTORATION.  We then chose to use specific columns because not all columns were necessary to use for our investigation.   \n",
    "\n",
    "### Assessment of Missingness\n",
    "For the assessment of missingness we used KS statistic with a confidence interval of 95%.  Our cutoff is 0.05 to determine significance level and comparison between columns.\n",
    "\n",
    "We believe the values of column \"CAUSE.CATEGORY.DETAIL\" is an example of MAR because we see that there is a possible reasoning for some of the NaN values. There is a dependent relationship between columns \"CAUSE.CATEGORY.DETAIL\" and \"CAUSE.CATEGORY\". If the \"CAUSE.CATEGORY.DETAIL\" is NaN we can see that we already have information for that value because the \"CAUSE.CATEGORY\" column already gives us relevant information for the reason of the power outage. However, some of the values are ambiguous and we investigate this more by using statistical tests to determine a p-value.\n",
    "\n",
    "In contrast, the column \"CLIMATE.REGION\" is not dependent on the \"CAUSE.CATEGORY\" column.  We can see that the p-value resulted around 0.44 which is far above our cutoff value of 0.05.  We deem this as insignificant and there is no strong correlation between the two columns.\n",
    "\n",
    "For the assessment of missingness, we decided to fill all NaN values with a 0 in the table because this means it is not the corresponding cause of the outage for that particular outage case. This also makes our hypothesis testing results smoother when computing. \n",
    "\n",
    "### Hypothesis Test\n",
    "Null Hypothesis: The Northeast region have a greater likeliness than Central of a power outage being caused because of severe weather.\n",
    "\n",
    "Alternative Hypothesis: The Central region have a greater likeliness than Northeast of a power outage being caused because of severe weather.\n",
    "\n",
    "With using a test statistic of difference of means between the two regions of Northeast and Central, we were able to find a quantitative way to compare the likeliness of 'severe weather' being a major cause for the power outages. We decided to use this test statistic, difference of means, beacause we wanted to compare the difference in the averages of reasons between the two regions. This test statistic was the most relevant to what we are trying to find. With a signifance value of 0.1, we want to use a permutation test to see compare the likeliness of a power outage being caused because of severe weather.\n",
    "\n",
    "### Conclusion\n",
    "\n",
    "Going back to our initial null hypothesis: The Northeast region has a greater likeliness than Central for a power outage being caused because of severe weather.\n",
    "\n",
    "We can say that we reject to accept our null hypothesis because our p-value has a consistent value far from our set significance value of 0.1. With getting a value of 0.5 for our p-value, we can not conclude a significant difference exists between the Northeast and Central regions.\n",
    "\n",
    "From our given data the Northeast region does not necessarily have a greater likeliness than Central for a power outage being caused because of severe weather.\n",
    "\n",
    "Some ways that we may want to improve our testing and findings would be to have a larger sample size in order to get a more accurate conclusion. This could either mean we have more information/data from a larger dataset from years before. Another way we could improve our findings is to compare with other regions of the given information/data in order to determine if there is more significance with \"severe weather\"."
   ]
  },
  {
   "cell_type": "markdown",
   "metadata": {},
   "source": [
    "# Code"
   ]
  },
  {
   "cell_type": "code",
   "execution_count": 1,
   "metadata": {
    "ExecuteTime": {
     "end_time": "2019-10-31T23:36:28.652554Z",
     "start_time": "2019-10-31T23:36:27.180520Z"
    }
   },
   "outputs": [],
   "source": [
    "import matplotlib.pyplot as plt\n",
    "import numpy as np\n",
    "import os\n",
    "import pandas as pd\n",
    "import seaborn as sns\n",
    "from scipy.stats import ks_2samp\n",
    "%matplotlib inline\n",
    "%config InlineBackend.figure_format = 'retina'  # Higher resolution figures"
   ]
  },
  {
   "cell_type": "markdown",
   "metadata": {},
   "source": [
    "### Cleaning and EDA"
   ]
  },
  {
   "cell_type": "markdown",
   "metadata": {},
   "source": [
    "For our cleaning portion, we use the method data_types in order to clearly keep track of the type of data we want each column to be from our raw data, 'outages'. We also created a helper function, 'helper_combine' in order to have a template to combine our time columns of \"OUTAGE.START\" and \"OUTAGE.RESTORATION\". "
   ]
  },
  {
   "cell_type": "code",
   "execution_count": 2,
   "metadata": {},
   "outputs": [],
   "source": [
    "def data_types():\n",
    "    dict = {'YEAR': \"int\", 'MONTH': \"int\", 'U.S._STATE': \"str\", 'POSTAL.CODE': \"str\", 'NERC.REGION': \"str\",\n",
    "       'CLIMATE.REGION': \"str\", 'ANOMALY.LEVEL': \"float\", 'CLIMATE.CATEGORY': \"str\", 'CAUSE.CATEGORY': \"str\",\n",
    "       'CAUSE.CATEGORY.DETAIL': \"str\", 'HURRICANE.NAMES': \"str\", 'OUTAGE.DURATION': \"int\",\n",
    "       'DEMAND.LOSS.MW': \"int\", 'CUSTOMERS.AFFECTED': \"float\", 'RES.PRICE': \"float\", 'COM.PRICE': \"float\",\n",
    "       'IND.PRICE': \"float\", 'TOTAL.PRICE': \"float\", 'RES.SALES':\"int\", 'COM.SALES':\"int\", 'IND.SALES': \"int\",\n",
    "       'TOTAL.SALES': \"int\", 'RES.PERCEN': \"float\", 'COM.PERCEN': \"float\", 'IND.PERCEN': \"float\",\n",
    "       'RES.CUSTOMERS':\"int\", 'COM.CUSTOMERS':\"int\", 'IND.CUSTOMERS':\"int\", 'TOTAL.CUSTOMERS':\"int\",\n",
    "       'RES.CUST.PCT': \"float\", 'COM.CUST.PCT': \"float\", 'IND.CUST.PCT': \"float\", 'PC.REALGSP.STATE': \"int\",\n",
    "       'PC.REALGSP.USA':\"int\", 'PC.REALGSP.REL':\"float\", 'PC.REALGSP.CHANGE': \"float\", 'UTIL.REALGSP': \"int\",\n",
    "       'TOTAL.REALGSP': \"int\", 'UTIL.CONTRI': \"float\", 'PI.UTIL.OFUSA': \"float\", 'POPULATION':\"int\",\n",
    "       'POPPCT_URBAN' : \"float\", 'POPPCT_UC': \"float\", 'POPDEN_URBAN': \"float\", 'POPDEN_UC': \"float\",\n",
    "       'POPDEN_RURAL': \"float\", 'AREAPCT_URBAN': \"float\", 'AREAPCT_UC': \"float\", 'PCT_LAND': \"float\",\n",
    "       'PCT_WATER_TOT': \"float\", 'PCT_WATER_INLAND': \"float\", 'OUTAGE.START': \"Timestamp\",\n",
    "       'OUTAGE.RESTORATION':\"Timestamp\"}\n",
    "    return dict \n",
    "\n",
    "def helper_combined(df, col1, col2, combined_col):\n",
    "    df[combined_col] = df[col1].astype(str).str[:-9] +  \" \" + df[col2].astype(str)\n",
    "    df[combined_col] = df[combined_col].replace({\" nan\": np.NaN})\n",
    "    df[combined_col] = pd.to_datetime(df[combined_col])\n",
    "    df = df.drop([col1, col2], axis = 1)\n",
    "    return df"
   ]
  },
  {
   "cell_type": "code",
   "execution_count": null,
   "metadata": {},
   "outputs": [],
   "source": []
  },
  {
   "cell_type": "markdown",
   "metadata": {},
   "source": [
    "In this cell we continued to clean up the original data by combining two columns using our helper_combined method in order to organize our data. The datetime column that we created makes it easier to compare columns in our findings. \n",
    "We also found it relevant to filter out the relevant columns for our particular question in order to have a smaller and more efficient dataframe. "
   ]
  },
  {
   "cell_type": "code",
   "execution_count": 3,
   "metadata": {
    "scrolled": true
   },
   "outputs": [
    {
     "data": {
      "text/html": [
       "<div>\n",
       "<style scoped>\n",
       "    .dataframe tbody tr th:only-of-type {\n",
       "        vertical-align: middle;\n",
       "    }\n",
       "\n",
       "    .dataframe tbody tr th {\n",
       "        vertical-align: top;\n",
       "    }\n",
       "\n",
       "    .dataframe thead th {\n",
       "        text-align: right;\n",
       "    }\n",
       "</style>\n",
       "<table border=\"1\" class=\"dataframe\">\n",
       "  <thead>\n",
       "    <tr style=\"text-align: right;\">\n",
       "      <th>4</th>\n",
       "      <th>YEAR</th>\n",
       "      <th>CLIMATE.REGION</th>\n",
       "      <th>CAUSE.CATEGORY</th>\n",
       "      <th>CAUSE.CATEGORY.DETAIL</th>\n",
       "      <th>OUTAGE.START</th>\n",
       "      <th>OUTAGE.RESTORATION</th>\n",
       "    </tr>\n",
       "  </thead>\n",
       "  <tbody>\n",
       "    <tr>\n",
       "      <th>0</th>\n",
       "      <td>2011</td>\n",
       "      <td>East North Central</td>\n",
       "      <td>severe weather</td>\n",
       "      <td>NaN</td>\n",
       "      <td>2011-07-01 17:00:00</td>\n",
       "      <td>2011-07-03 20:00:00</td>\n",
       "    </tr>\n",
       "    <tr>\n",
       "      <th>1</th>\n",
       "      <td>2014</td>\n",
       "      <td>East North Central</td>\n",
       "      <td>intentional attack</td>\n",
       "      <td>vandalism</td>\n",
       "      <td>2014-05-11 18:38:00</td>\n",
       "      <td>2014-05-11 18:39:00</td>\n",
       "    </tr>\n",
       "    <tr>\n",
       "      <th>2</th>\n",
       "      <td>2010</td>\n",
       "      <td>East North Central</td>\n",
       "      <td>severe weather</td>\n",
       "      <td>heavy wind</td>\n",
       "      <td>2010-10-26 20:00:00</td>\n",
       "      <td>2010-10-28 22:00:00</td>\n",
       "    </tr>\n",
       "    <tr>\n",
       "      <th>3</th>\n",
       "      <td>2012</td>\n",
       "      <td>East North Central</td>\n",
       "      <td>severe weather</td>\n",
       "      <td>thunderstorm</td>\n",
       "      <td>2012-06-19 04:30:00</td>\n",
       "      <td>2012-06-20 23:00:00</td>\n",
       "    </tr>\n",
       "    <tr>\n",
       "      <th>4</th>\n",
       "      <td>2015</td>\n",
       "      <td>East North Central</td>\n",
       "      <td>severe weather</td>\n",
       "      <td>NaN</td>\n",
       "      <td>2015-07-18 02:00:00</td>\n",
       "      <td>2015-07-19 07:00:00</td>\n",
       "    </tr>\n",
       "  </tbody>\n",
       "</table>\n",
       "</div>"
      ],
      "text/plain": [
       "4  YEAR      CLIMATE.REGION      CAUSE.CATEGORY CAUSE.CATEGORY.DETAIL  \\\n",
       "0  2011  East North Central      severe weather                   NaN   \n",
       "1  2014  East North Central  intentional attack             vandalism   \n",
       "2  2010  East North Central      severe weather            heavy wind   \n",
       "3  2012  East North Central      severe weather          thunderstorm   \n",
       "4  2015  East North Central      severe weather                   NaN   \n",
       "\n",
       "4        OUTAGE.START  OUTAGE.RESTORATION  \n",
       "0 2011-07-01 17:00:00 2011-07-03 20:00:00  \n",
       "1 2014-05-11 18:38:00 2014-05-11 18:39:00  \n",
       "2 2010-10-26 20:00:00 2010-10-28 22:00:00  \n",
       "3 2012-06-19 04:30:00 2012-06-20 23:00:00  \n",
       "4 2015-07-18 02:00:00 2015-07-19 07:00:00  "
      ]
     },
     "execution_count": 3,
     "metadata": {},
     "output_type": "execute_result"
    }
   ],
   "source": [
    "# read in the excel sheet to be analyzed\n",
    "outage = pd.read_excel('outage.xlsx', dtype = data_types())\n",
    "outage.columns = outage.iloc[4]\n",
    "outage = outage.iloc[6:].reset_index().drop([\"variables\", \"index\", \"OBS\"], axis = 1)\n",
    "outage[[\"CAUSE.CATEGORY\",\"HURRICANE.NAMES\"]][outage[\"CAUSE.CATEGORY\"] == 'hurricane']\n",
    "\n",
    "# calls helper_combined method created above in order to combine columns to make one datetime column\n",
    "outage = helper_combined(outage, \"OUTAGE.START.DATE\", \"OUTAGE.START.TIME\", \"OUTAGE.START\")\n",
    "outage = helper_combined(outage, \"OUTAGE.RESTORATION.DATE\", \"OUTAGE.RESTORATION.TIME\", \"OUTAGE.RESTORATION\")\n",
    "outage = outage[[\"YEAR\", \"CLIMATE.REGION\", \"CAUSE.CATEGORY\",\"CAUSE.CATEGORY.DETAIL\", \"OUTAGE.START\", \"OUTAGE.RESTORATION\"]]\n",
    "outage.head()"
   ]
  },
  {
   "cell_type": "markdown",
   "metadata": {},
   "source": [
    "Here we are continuing to clean our data for our testing filtering only the appropriate regions needed and filter out all other regions besides \"Central\" and \"Northeast\". We do this to help our data be more specific to our overall question. \n",
    "\n",
    "By grouping the year, categories, and regions we get a pivot table that displays the data clearer in order to perform our permutation test. "
   ]
  },
  {
   "cell_type": "code",
   "execution_count": 4,
   "metadata": {},
   "outputs": [
    {
     "data": {
      "text/html": [
       "<div>\n",
       "<style scoped>\n",
       "    .dataframe tbody tr th:only-of-type {\n",
       "        vertical-align: middle;\n",
       "    }\n",
       "\n",
       "    .dataframe tbody tr th {\n",
       "        vertical-align: top;\n",
       "    }\n",
       "\n",
       "    .dataframe thead th {\n",
       "        text-align: right;\n",
       "    }\n",
       "</style>\n",
       "<table border=\"1\" class=\"dataframe\">\n",
       "  <thead>\n",
       "    <tr style=\"text-align: right;\">\n",
       "      <th>CAUSE.CATEGORY</th>\n",
       "      <th>CLIMATE.REGION</th>\n",
       "      <th>YEAR</th>\n",
       "      <th>equipment failure</th>\n",
       "      <th>fuel supply emergency</th>\n",
       "      <th>intentional attack</th>\n",
       "      <th>islanding</th>\n",
       "      <th>public appeal</th>\n",
       "      <th>severe weather</th>\n",
       "      <th>system operability disruption</th>\n",
       "    </tr>\n",
       "  </thead>\n",
       "  <tbody>\n",
       "    <tr>\n",
       "      <th>0</th>\n",
       "      <td>Central</td>\n",
       "      <td>2000</td>\n",
       "      <td>2.0</td>\n",
       "      <td>NaN</td>\n",
       "      <td>NaN</td>\n",
       "      <td>NaN</td>\n",
       "      <td>NaN</td>\n",
       "      <td>3.0</td>\n",
       "      <td>NaN</td>\n",
       "    </tr>\n",
       "    <tr>\n",
       "      <th>1</th>\n",
       "      <td>Central</td>\n",
       "      <td>2002</td>\n",
       "      <td>NaN</td>\n",
       "      <td>NaN</td>\n",
       "      <td>NaN</td>\n",
       "      <td>NaN</td>\n",
       "      <td>NaN</td>\n",
       "      <td>1.0</td>\n",
       "      <td>NaN</td>\n",
       "    </tr>\n",
       "    <tr>\n",
       "      <th>2</th>\n",
       "      <td>Central</td>\n",
       "      <td>2003</td>\n",
       "      <td>NaN</td>\n",
       "      <td>NaN</td>\n",
       "      <td>1.0</td>\n",
       "      <td>NaN</td>\n",
       "      <td>NaN</td>\n",
       "      <td>4.0</td>\n",
       "      <td>1.0</td>\n",
       "    </tr>\n",
       "    <tr>\n",
       "      <th>3</th>\n",
       "      <td>Central</td>\n",
       "      <td>2004</td>\n",
       "      <td>NaN</td>\n",
       "      <td>NaN</td>\n",
       "      <td>NaN</td>\n",
       "      <td>NaN</td>\n",
       "      <td>NaN</td>\n",
       "      <td>5.0</td>\n",
       "      <td>NaN</td>\n",
       "    </tr>\n",
       "    <tr>\n",
       "      <th>4</th>\n",
       "      <td>Central</td>\n",
       "      <td>2005</td>\n",
       "      <td>1.0</td>\n",
       "      <td>NaN</td>\n",
       "      <td>NaN</td>\n",
       "      <td>NaN</td>\n",
       "      <td>NaN</td>\n",
       "      <td>4.0</td>\n",
       "      <td>NaN</td>\n",
       "    </tr>\n",
       "  </tbody>\n",
       "</table>\n",
       "</div>"
      ],
      "text/plain": [
       "CAUSE.CATEGORY CLIMATE.REGION  YEAR  equipment failure  fuel supply emergency  \\\n",
       "0                     Central  2000                2.0                    NaN   \n",
       "1                     Central  2002                NaN                    NaN   \n",
       "2                     Central  2003                NaN                    NaN   \n",
       "3                     Central  2004                NaN                    NaN   \n",
       "4                     Central  2005                1.0                    NaN   \n",
       "\n",
       "CAUSE.CATEGORY  intentional attack  islanding  public appeal  severe weather  \\\n",
       "0                              NaN        NaN            NaN             3.0   \n",
       "1                              NaN        NaN            NaN             1.0   \n",
       "2                              1.0        NaN            NaN             4.0   \n",
       "3                              NaN        NaN            NaN             5.0   \n",
       "4                              NaN        NaN            NaN             4.0   \n",
       "\n",
       "CAUSE.CATEGORY  system operability disruption  \n",
       "0                                         NaN  \n",
       "1                                         NaN  \n",
       "2                                         1.0  \n",
       "3                                         NaN  \n",
       "4                                         NaN  "
      ]
     },
     "execution_count": 4,
     "metadata": {},
     "output_type": "execute_result"
    }
   ],
   "source": [
    "#taking only \"Central\" and \"Northeast\" rows from the \"outage\" dataframe\n",
    "filtered_regions = outage[(outage[\"CLIMATE.REGION\"] == 'Central') | (outage[\"CLIMATE.REGION\"] == 'Northeast')]\n",
    "filtered_regions = filtered_regions[[\"CLIMATE.REGION\", \"CAUSE.CATEGORY\", \"YEAR\"]]\n",
    "\n",
    "#creating pivot table\n",
    "filtered_regions = filtered_regions.groupby([\"CLIMATE.REGION\", \"CAUSE.CATEGORY\", \"YEAR\"]).size().to_frame().reset_index()\n",
    "grouped_table = pd.pivot_table(filtered_regions, index = [\"CLIMATE.REGION\", \"YEAR\"], columns = \"CAUSE.CATEGORY\")\n",
    "grouped_table.columns = grouped_table.columns.droplevel()\n",
    "grouped_table = grouped_table.reset_index()\n",
    "grouped_table.head()"
   ]
  },
  {
   "cell_type": "markdown",
   "metadata": {},
   "source": [
    "# Univariate Analysis\n"
   ]
  },
  {
   "cell_type": "markdown",
   "metadata": {},
   "source": [
    "Here we created a table to emphasize the amount of outages reported/ amount of data given per region in the United States. From getting the value count of each region, we wanted to of course get the region with the most outages in the given data, which in this case was \"Northeast\". As for choosing the second region to compare it to, we chose a region that was in the median of the value counts. For that reason, we chose to compare the Northeast region to the \"Central\" region. By plotting the counts of each region and understanding them, we figured that the northeast and Central regions are both different in climate, culture, and both are unique in their own way, making them good choices to chose to compare them."
   ]
  },
  {
   "cell_type": "code",
   "execution_count": 5,
   "metadata": {},
   "outputs": [
    {
     "data": {
      "image/png": "[encoded data removed]",
      "text/plain": [
       "<Figure size 432x288 with 1 Axes>"
      ]
     },
     "metadata": {
      "image/png": {
       "height": 364,
       "width": 388
      },
      "needs_background": "light"
     },
     "output_type": "display_data"
    }
   ],
   "source": [
    "outage[\"CLIMATE.REGION\"].value_counts()\n",
    "b = outage[\"CLIMATE.REGION\"].value_counts().to_frame().reset_index()\n",
    "\n",
    "objects = b['index']\n",
    "y_pos = np.arange(len(objects))\n",
    "performance = b[\"CLIMATE.REGION\"]\n",
    "\n",
    "plt.bar(y_pos, performance, align='center', alpha=0.5)\n",
    "plt.xticks(y_pos, objects)\n",
    "plt.ylabel('Frequency')\n",
    "plt.xlabel('Region')\n",
    "plt.title('Frequency of Regions')\n",
    "plt.xticks(rotation = 90)\n",
    "\n",
    "plt.show()"
   ]
  },
  {
   "cell_type": "code",
   "execution_count": null,
   "metadata": {},
   "outputs": [],
   "source": []
  },
  {
   "cell_type": "markdown",
   "metadata": {},
   "source": [
    "# Bivariate Analysis\n",
    "Here we created a graph to compare the Central and Northeast regions to each cause of outage.  We do this in order to determine the possible leading cause of outages.  The x axis shows the different causes while the y axis shows the count for each cause and region.  As a result of observing this graph, we see that the cause of 'severe weather' has the largest frequency in comparison to the other causes."
   ]
  },
  {
   "cell_type": "code",
   "execution_count": 6,
   "metadata": {},
   "outputs": [
    {
     "data": {
      "image/png": "[encoded data removed]",
      "text/plain": [
       "<Figure size 432x288 with 1 Axes>"
      ]
     },
     "metadata": {
      "image/png": {
       "height": 414,
       "width": 382
      },
      "needs_background": "light"
     },
     "output_type": "display_data"
    }
   ],
   "source": [
    "# create copy of filtered_regions\n",
    "df = filtered_regions\n",
    "df = df.groupby(['CLIMATE.REGION','CAUSE.CATEGORY']).count().reset_index()\n",
    "\n",
    "# here we make the double bar plot to compare regions and causes\n",
    "N = 7\n",
    "central_vals = df['YEAR'][:7]\n",
    "northeast_vals = df['YEAR'][7:]\n",
    "\n",
    "ind = np.arange(N) \n",
    "width = 0.3    \n",
    "plt.bar(ind, central_vals, width, label='Central')\n",
    "plt.bar(ind + width, northeast_vals, width,\n",
    "    label='Northeast')\n",
    "\n",
    "# labels the axis\n",
    "plt.ylabel('Count')\n",
    "plt.xlabel('Cause Category')\n",
    "plt.title('Causes Compared to Central and Northeast')\n",
    "\n",
    "plt.xticks(ind + width / 2, list(df['CAUSE.CATEGORY'].unique()))\n",
    "plt.legend(loc='best')\n",
    "plt.xticks(rotation=90)\n",
    "plt.show()\n"
   ]
  },
  {
   "cell_type": "code",
   "execution_count": null,
   "metadata": {},
   "outputs": [],
   "source": []
  },
  {
   "cell_type": "markdown",
   "metadata": {},
   "source": [
    "# Interesting Aggregates\n",
    "By looking at the \"CAUSE.CATEGORY.DETAIL\" of every row that the cause of the outage was severe weather, we can see in more detail what exactly this means. By looking at the counts below, we can see that the largest proportion of the outages cause by severe weather was specifically from thunderstorms. By noticing this, we can find ways to have residents be overly prepared for an outage about to occur.\n",
    "\n",
    "We also created a pivot table here in order to observe the leading cause of outages based on our two chosen regions, Central and Northeast.  We wanted to narrow down our investigation to pick one specific cause to analyze how much it actually affects power outages for our regions.  "
   ]
  },
  {
   "cell_type": "code",
   "execution_count": 7,
   "metadata": {},
   "outputs": [
    {
     "data": {
      "text/plain": [
       "thunderstorm    0.309028\n",
       "winter storm    0.175347\n",
       "hurricanes      0.128472\n",
       "heavy wind      0.105903\n",
       "storm           0.071181\n",
       "Name: CAUSE.CATEGORY.DETAIL, dtype: float64"
      ]
     },
     "execution_count": 7,
     "metadata": {},
     "output_type": "execute_result"
    }
   ],
   "source": [
    "reasons_sever = outage[outage[\"CAUSE.CATEGORY\"] == 'severe weather'][\"CAUSE.CATEGORY.DETAIL\"].value_counts(normalize = True)\n",
    "reasons_sever.head()"
   ]
  },
  {
   "cell_type": "code",
   "execution_count": 8,
   "metadata": {},
   "outputs": [
    {
     "data": {
      "text/html": [
       "<div>\n",
       "<style scoped>\n",
       "    .dataframe tbody tr th:only-of-type {\n",
       "        vertical-align: middle;\n",
       "    }\n",
       "\n",
       "    .dataframe tbody tr th {\n",
       "        vertical-align: top;\n",
       "    }\n",
       "\n",
       "    .dataframe thead th {\n",
       "        text-align: right;\n",
       "    }\n",
       "</style>\n",
       "<table border=\"1\" class=\"dataframe\">\n",
       "  <thead>\n",
       "    <tr style=\"text-align: right;\">\n",
       "      <th>CAUSE.CATEGORY</th>\n",
       "      <th>equipment failure</th>\n",
       "      <th>fuel supply emergency</th>\n",
       "      <th>intentional attack</th>\n",
       "      <th>islanding</th>\n",
       "      <th>public appeal</th>\n",
       "      <th>severe weather</th>\n",
       "      <th>system operability disruption</th>\n",
       "    </tr>\n",
       "    <tr>\n",
       "      <th>CLIMATE.REGION</th>\n",
       "      <th></th>\n",
       "      <th></th>\n",
       "      <th></th>\n",
       "      <th></th>\n",
       "      <th></th>\n",
       "      <th></th>\n",
       "      <th></th>\n",
       "    </tr>\n",
       "  </thead>\n",
       "  <tbody>\n",
       "    <tr>\n",
       "      <th>Central</th>\n",
       "      <td>5</td>\n",
       "      <td>4</td>\n",
       "      <td>7</td>\n",
       "      <td>2</td>\n",
       "      <td>2</td>\n",
       "      <td>15</td>\n",
       "      <td>9</td>\n",
       "    </tr>\n",
       "    <tr>\n",
       "      <th>Northeast</th>\n",
       "      <td>4</td>\n",
       "      <td>8</td>\n",
       "      <td>7</td>\n",
       "      <td>1</td>\n",
       "      <td>2</td>\n",
       "      <td>15</td>\n",
       "      <td>10</td>\n",
       "    </tr>\n",
       "  </tbody>\n",
       "</table>\n",
       "</div>"
      ],
      "text/plain": [
       "CAUSE.CATEGORY  equipment failure  fuel supply emergency  intentional attack  \\\n",
       "CLIMATE.REGION                                                                 \n",
       "Central                         5                      4                   7   \n",
       "Northeast                       4                      8                   7   \n",
       "\n",
       "CAUSE.CATEGORY  islanding  public appeal  severe weather  \\\n",
       "CLIMATE.REGION                                             \n",
       "Central                 2              2              15   \n",
       "Northeast               1              2              15   \n",
       "\n",
       "CAUSE.CATEGORY  system operability disruption  \n",
       "CLIMATE.REGION                                 \n",
       "Central                                     9  \n",
       "Northeast                                  10  "
      ]
     },
     "execution_count": 8,
     "metadata": {},
     "output_type": "execute_result"
    }
   ],
   "source": [
    "copy = filtered_regions\n",
    "copy.pivot_table(index=['CLIMATE.REGION'], columns='CAUSE.CATEGORY', values='YEAR', aggfunc='count')"
   ]
  },
  {
   "cell_type": "code",
   "execution_count": null,
   "metadata": {},
   "outputs": [],
   "source": []
  },
  {
   "cell_type": "markdown",
   "metadata": {},
   "source": [
    "### Assessment of Missingness"
   ]
  },
  {
   "cell_type": "markdown",
   "metadata": {},
   "source": [
    "For the method verify_missingness, we investigate the missingness of the 'CAUSE.CATEGORY.DETAIL' column which may depend on the 'CAUSE.CATEGORY' column.  We suspect that the 'CAUSE.CATEGORY.DETAIL' column may be MAR dependent on the 'CAUSE.CATEGORY' column, therefore we want to investigate its missingness.  This method returns a pvalue which we use to determine the significance in comparison to the observed value.  Our pvalue outcome is under our significance cutoff of 0.1 which shows that the result is significant.  This means that MAR is relevant for the 'CAUSE.CATEGORY.DETAIL' column.  This interesting finding allows us to narrow down our hypothesis and choose these two columns for out test statistic.\n",
    "\n",
    "For our second test, we investigated the relationship between the 'CAUSE.CATEGORY' column and the 'CAUSE.REGION' column.  There are missing values under the 'CAUSE.REGION' column where we would like to determine if the values are MAR dependent on 'CAUSE.CATEGORY'.  For the comparison between these columns, we see the p-value is above the significance cutoff of 0.1.  We deem this as insignificant, meaning that the columnshave no correlation with one another.  We can conclude that the missingness is not a result of MAR, but instead it is NMAR."
   ]
  },
  {
   "cell_type": "code",
   "execution_count": 9,
   "metadata": {},
   "outputs": [],
   "source": [
    "def verify_missingness(df, X, Y, N=1000):\n",
    "    \"\"\"\n",
    "    This method verifies the type of missingness\n",
    "    for the specified columns we want to compare.\n",
    "    \"\"\"\n",
    "    \n",
    "    df['bool'] = df[Y].isnull()\n",
    "\n",
    "    gpA = df.loc[df['bool'] == True, X]\n",
    "    gpB = df.loc[df['bool'] == False, X]\n",
    "\n",
    "    obs = ks_2samp(gpA, gpB).statistic\n",
    "    # print('obs ' + str(obs))\n",
    "\n",
    "    ks_list = []\n",
    "    for _ in range(N):\n",
    "\n",
    "        # shuffle the age column\n",
    "        shuffled_col = (\n",
    "            df[X]\n",
    "            .sample(replace=False, frac=1)\n",
    "            .reset_index(drop=True)\n",
    "        )\n",
    "\n",
    "        # put them in a table\n",
    "        shuffled = (\n",
    "            df\n",
    "            .assign(**{\n",
    "                X: shuffled_col,\n",
    "            })\n",
    "        )\n",
    "\n",
    "        # compute the KS\n",
    "        grps = shuffled.groupby('bool')[X]\n",
    "        ks = ks_2samp(grps.get_group(True), grps.get_group(False)).statistic\n",
    "\n",
    "        ks_list.append(ks)\n",
    "\n",
    "    pval = np.mean(pd.Series(ks_list) >= obs)\n",
    "\n",
    "    return pval\n"
   ]
  },
  {
   "cell_type": "code",
   "execution_count": 10,
   "metadata": {},
   "outputs": [
    {
     "data": {
      "text/plain": [
       "0.0"
      ]
     },
     "execution_count": 10,
     "metadata": {},
     "output_type": "execute_result"
    }
   ],
   "source": [
    "verify_missingness(outage, 'CAUSE.CATEGORY', 'CAUSE.CATEGORY.DETAIL', N=100)"
   ]
  },
  {
   "cell_type": "code",
   "execution_count": 11,
   "metadata": {},
   "outputs": [
    {
     "data": {
      "text/plain": [
       "0.4"
      ]
     },
     "execution_count": 11,
     "metadata": {},
     "output_type": "execute_result"
    }
   ],
   "source": [
    "verify_missingness(outage, 'CAUSE.CATEGORY', 'CLIMATE.REGION', N=100)"
   ]
  },
  {
   "cell_type": "code",
   "execution_count": null,
   "metadata": {},
   "outputs": [],
   "source": []
  },
  {
   "cell_type": "markdown",
   "metadata": {},
   "source": [
    "Fill all NaN values with a 0 in the table because this means it is not the corresponding \n",
    "cause of the outage for that particular outage case. This also makes our hypothesis \n",
    "testing results smoother when computing because our table is easier to understand."
   ]
  },
  {
   "cell_type": "code",
   "execution_count": 12,
   "metadata": {
    "ExecuteTime": {
     "end_time": "2019-10-31T23:36:28.662099Z",
     "start_time": "2019-10-31T23:36:28.660016Z"
    }
   },
   "outputs": [
    {
     "data": {
      "text/html": [
       "<div>\n",
       "<style scoped>\n",
       "    .dataframe tbody tr th:only-of-type {\n",
       "        vertical-align: middle;\n",
       "    }\n",
       "\n",
       "    .dataframe tbody tr th {\n",
       "        vertical-align: top;\n",
       "    }\n",
       "\n",
       "    .dataframe thead th {\n",
       "        text-align: right;\n",
       "    }\n",
       "</style>\n",
       "<table border=\"1\" class=\"dataframe\">\n",
       "  <thead>\n",
       "    <tr style=\"text-align: right;\">\n",
       "      <th>CAUSE.CATEGORY</th>\n",
       "      <th>CLIMATE.REGION</th>\n",
       "      <th>YEAR</th>\n",
       "      <th>equipment failure</th>\n",
       "      <th>fuel supply emergency</th>\n",
       "      <th>intentional attack</th>\n",
       "      <th>islanding</th>\n",
       "      <th>public appeal</th>\n",
       "      <th>severe weather</th>\n",
       "      <th>system operability disruption</th>\n",
       "    </tr>\n",
       "  </thead>\n",
       "  <tbody>\n",
       "    <tr>\n",
       "      <th>0</th>\n",
       "      <td>Central</td>\n",
       "      <td>2000</td>\n",
       "      <td>2.0</td>\n",
       "      <td>0.0</td>\n",
       "      <td>0.0</td>\n",
       "      <td>0.0</td>\n",
       "      <td>0.0</td>\n",
       "      <td>3.0</td>\n",
       "      <td>0.0</td>\n",
       "    </tr>\n",
       "    <tr>\n",
       "      <th>1</th>\n",
       "      <td>Central</td>\n",
       "      <td>2002</td>\n",
       "      <td>0.0</td>\n",
       "      <td>0.0</td>\n",
       "      <td>0.0</td>\n",
       "      <td>0.0</td>\n",
       "      <td>0.0</td>\n",
       "      <td>1.0</td>\n",
       "      <td>0.0</td>\n",
       "    </tr>\n",
       "    <tr>\n",
       "      <th>2</th>\n",
       "      <td>Central</td>\n",
       "      <td>2003</td>\n",
       "      <td>0.0</td>\n",
       "      <td>0.0</td>\n",
       "      <td>1.0</td>\n",
       "      <td>0.0</td>\n",
       "      <td>0.0</td>\n",
       "      <td>4.0</td>\n",
       "      <td>1.0</td>\n",
       "    </tr>\n",
       "    <tr>\n",
       "      <th>3</th>\n",
       "      <td>Central</td>\n",
       "      <td>2004</td>\n",
       "      <td>0.0</td>\n",
       "      <td>0.0</td>\n",
       "      <td>0.0</td>\n",
       "      <td>0.0</td>\n",
       "      <td>0.0</td>\n",
       "      <td>5.0</td>\n",
       "      <td>0.0</td>\n",
       "    </tr>\n",
       "    <tr>\n",
       "      <th>4</th>\n",
       "      <td>Central</td>\n",
       "      <td>2005</td>\n",
       "      <td>1.0</td>\n",
       "      <td>0.0</td>\n",
       "      <td>0.0</td>\n",
       "      <td>0.0</td>\n",
       "      <td>0.0</td>\n",
       "      <td>4.0</td>\n",
       "      <td>0.0</td>\n",
       "    </tr>\n",
       "  </tbody>\n",
       "</table>\n",
       "</div>"
      ],
      "text/plain": [
       "CAUSE.CATEGORY CLIMATE.REGION  YEAR  equipment failure  fuel supply emergency  \\\n",
       "0                     Central  2000                2.0                    0.0   \n",
       "1                     Central  2002                0.0                    0.0   \n",
       "2                     Central  2003                0.0                    0.0   \n",
       "3                     Central  2004                0.0                    0.0   \n",
       "4                     Central  2005                1.0                    0.0   \n",
       "\n",
       "CAUSE.CATEGORY  intentional attack  islanding  public appeal  severe weather  \\\n",
       "0                              0.0        0.0            0.0             3.0   \n",
       "1                              0.0        0.0            0.0             1.0   \n",
       "2                              1.0        0.0            0.0             4.0   \n",
       "3                              0.0        0.0            0.0             5.0   \n",
       "4                              0.0        0.0            0.0             4.0   \n",
       "\n",
       "CAUSE.CATEGORY  system operability disruption  \n",
       "0                                         0.0  \n",
       "1                                         0.0  \n",
       "2                                         1.0  \n",
       "3                                         0.0  \n",
       "4                                         0.0  "
      ]
     },
     "execution_count": 12,
     "metadata": {},
     "output_type": "execute_result"
    }
   ],
   "source": [
    "#filling all the NaN values with 0\n",
    "grouped_table = grouped_table.fillna(0)\n",
    "grouped_table.head()"
   ]
  },
  {
   "cell_type": "code",
   "execution_count": null,
   "metadata": {},
   "outputs": [],
   "source": []
  },
  {
   "cell_type": "markdown",
   "metadata": {},
   "source": [
    "### Hypothesis Test"
   ]
  },
  {
   "cell_type": "markdown",
   "metadata": {},
   "source": [
    "Here we find our test statistic for our hypothesis test using difference of means.  This represents our observed statistic and the value remains stagnant.  We specifically use the column for 'severe weather' because we want to compare this cause to the regions of Central and Northeast."
   ]
  },
  {
   "cell_type": "code",
   "execution_count": 13,
   "metadata": {},
   "outputs": [
    {
     "data": {
      "text/plain": [
       "1.9154411764705888"
      ]
     },
     "execution_count": 13,
     "metadata": {},
     "output_type": "execute_result"
    }
   ],
   "source": [
    "def diff_of_means(data, col= 'severe weather' ):\n",
    "    \"\"\"\n",
    "    This method determines the observed value for the distribution.\n",
    "    \"\"\"\n",
    "    central_mean = data[data[\"CLIMATE.REGION\"] == \"Central\"][col].mean()\n",
    "    northeast_mean = data[data[\"CLIMATE.REGION\"] == \"Northeast\"][col].mean()\n",
    "    return np.abs(central_mean - northeast_mean)\n",
    "diff_of_means(grouped_table, 'severe weather')"
   ]
  },
  {
   "cell_type": "markdown",
   "metadata": {},
   "source": [
    "In our simulate_null method, we simulate our test statistic for the shuffled table in exactly one instance.  We use this to help us find our p-value in the p_value method.  This p-value is changing very drastically each time we run the cell because the amount of rows for our specified dataframe is quite small.  Therefore the values will change very drastically with each sample we take and each shuffle we have."
   ]
  },
  {
   "cell_type": "code",
   "execution_count": 14,
   "metadata": {},
   "outputs": [
    {
     "data": {
      "text/plain": [
       "3.8566176470588243"
      ]
     },
     "execution_count": 14,
     "metadata": {},
     "output_type": "execute_result"
    }
   ],
   "source": [
    "def simulate_null(data, col='severe weather'):\n",
    "    \"\"\"\n",
    "    This method simulates exactly one iteration of\n",
    "    the test statistic.\n",
    "    \"\"\"\n",
    "    shuffled_weather = (data[col].sample(replace=False, frac=1).reset_index(drop=True))\n",
    "    \n",
    "    # put them in a table\n",
    "    shuffled = (data.assign(**{'Shuffled weather': shuffled_weather}))\n",
    "    \n",
    "    # compute the group differences (test statistic!)\n",
    "    group_means = (shuffled.groupby(\"CLIMATE.REGION\").mean().loc[:, 'Shuffled weather'])\n",
    "    difference = group_means.diff().iloc[-1]\n",
    "    \n",
    "    # add it to the list of results\n",
    "    return np.abs(difference)\n",
    "    \n",
    "simulate_null(grouped_table)"
   ]
  },
  {
   "cell_type": "markdown",
   "metadata": {},
   "source": [
    "This shows the p_value for the hypothesis test in order to determine its significance in comparison to its observed value. This helps us determine if our observation is significant.  The histogram shown below shows the frequency of occurences in regards to 'severe weather'.  There is much more frequency for the 0 bin because for a majority of the time 'severe weather' is not the leading cause of outage.  The red dot represents our observed value. Since our observed value lies within the overall distribution, we interpret this result as our observed value being far from our significant value of 0.1.  This relates to our question because it shows our comparison with the observed value to the overall distribution between the two regions."
   ]
  },
  {
   "cell_type": "code",
   "execution_count": 15,
   "metadata": {},
   "outputs": [
    {
     "data": {
      "text/plain": [
       "(<matplotlib.axes._subplots.AxesSubplot at 0x25655d40e48>, 'P_value is: 0.525')"
      ]
     },
     "execution_count": 15,
     "metadata": {},
     "output_type": "execute_result"
    },
    {
     "data": {
      "image/png": "[encoded data removed]",
      "text/plain": [
       "<Figure size 432x288 with 1 Axes>"
      ]
     },
     "metadata": {
      "image/png": {
       "height": 263,
       "width": 392
      },
      "needs_background": "light"
     },
     "output_type": "display_data"
    }
   ],
   "source": [
    "def pval(data, col='severe weather'):\n",
    "    \"\"\"\n",
    "    This method simulates our test statistic 1000\n",
    "    times in order to obtain a pvalue to compare\n",
    "    to our observed value.\n",
    "    \"\"\"\n",
    "    \n",
    "    n_repetitions = 1000\n",
    "    differences = []\n",
    "    #simulating the statistic 1000 times \n",
    "    for _ in range(n_repetitions):\n",
    "        difference = simulate_null(data, col='severe weather')\n",
    "        differences.append(difference)\n",
    "    observed_difference = diff_of_means(data, col='severe weather')\n",
    "    p_value = np.count_nonzero(differences >= observed_difference) / n_repetitions\n",
    "    \n",
    "    histogram = pd.Series(differences).plot(kind = 'hist', density = True, title = \"Difference of Means between Northeast and Central\")\n",
    "    plt.scatter([observed_difference], [0], s=25, c = 'r')\n",
    "    return histogram, (\"P_value is: \" + str(p_value))\n",
    "\n",
    "pval(grouped_table, col='severe weather')       "
   ]
  },
  {
   "cell_type": "code",
   "execution_count": null,
   "metadata": {},
   "outputs": [],
   "source": []
  },
  {
   "cell_type": "markdown",
   "metadata": {
    "scrolled": true
   },
   "source": []
  },
  {
   "cell_type": "code",
   "execution_count": null,
   "metadata": {},
   "outputs": [],
   "source": []
  }
 ],
 "metadata": {
  "kernelspec": {
   "display_name": "Python 3",
   "language": "python",
   "name": "python3"
  },
  "language_info": {
   "codemirror_mode": {
    "name": "ipython",
    "version": 3
   },
   "file_extension": ".py",
   "mimetype": "text/x-python",
   "name": "python",
   "nbconvert_exporter": "python",
   "pygments_lexer": "ipython3",
   "version": "3.7.3"
  }
 },
 "nbformat": 4,
 "nbformat_minor": 2
}
