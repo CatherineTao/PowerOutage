{
 "cells": [
  {
   "cell_type": "markdown",
   "metadata": {},
   "source": [
    "# Power Outages\n",
    "* **See the main project notebook for instructions to be sure you satisfy the rubric!**\n",
    "* See Project 03 for information on the dataset.\n",
    "* A few example prediction questions to pursue are listed below. However, don't limit yourself to them!\n",
    "    * Predict the severity (number of customers, duration, or demand loss) of a major power outage.\n",
    "    * Predict the cause of a major power outage.\n",
    "    * Predict the number and/or severity of major power outages in the year 2020.\n",
    "    * Predict the electricity consumption of an area.\n",
    "\n",
    "Be careful to justify what information you would know at the \"time of prediction\" and train your model using only those features."
   ]
  },
  {
   "cell_type": "code",
   "execution_count": null,
   "metadata": {},
   "outputs": [],
   "source": []
  },
  {
   "cell_type": "markdown",
   "metadata": {},
   "source": [
    "# Summary of Findings\n",
    "### Introduction\n",
    "For our project we wanted to continue our data analysis on the power outage data. By using other columns in the inital outage data, we wanted to use that data in order to answer our overarching question of: What is the cause of a major power outage?\n",
    "For our project we chose to use the machine learning classification model titled SVM (Support Vector Machine). This classifier is most accurate for our project because this classification model separates groups within the dataset by finding a line that minimizes the misclassification error. Our target variable that we want to predict is the CAUSE.CATEGORY column. For our objective, we chose to use metrics.accuracy_score in order to measuer the accuracy of how close our predicted values are to the actual data.\n",
    "\n",
    "### Baseline Model\n",
    "We have a total number of 2 features for our baseline model.  The columns we chose to use are CLIMATE.REGION and CLIMATE.CATEGORY which are both classified as nominal data types.  Since these columns are of nominal type, we use OneHotEncoder to help evaluate our baseline model.  We chose these two specific columns because we believed that they were the most relevant to the outcome of our predictor variable CAUSE.CATEGORY.\n",
    "\n",
    "For our baseline model, we intended to use OneHotEncoder to build a model in order to be able to predict the CAUSE.CATEGORY column and achieve high accuracy. For the columns CLIMATE.REGION and CLIMATE.CATEGORY, we chose to use OneHotEncoder on them. We chose these columns because these columns are of nominal type, and OneHotEncoder helps to categorize each unique value under each column. From there we created a Pipeline with the categorical model of SVM and was able to make predictions of what CAUSE.CATEGORY was going to look like. Our accuracy (score) for this baseline model came out to be 0.57 - 0.61.  We believe this score is not great.  It needs more engineered features to create a more accurate score.  Therefore we add more engineered features to our final model in addition to our baseline model to achieve a higher accuracy.\n",
    "\n",
    "### Final Model\n",
    "For our final model, since our baseline model was not accurate enough to our standards, we chose to transform and create new features using Standardization and Binarization. We standardized the OUTAGE.DURATION based on the MONTH column. The MONTH column helps to group each OUTAGE.DURATION based on its corresponding MONTH segment. Standardization helps to standardize all OUTAGE.DURATION values by incorporating the mean and standard deviation values.\n",
    "\n",
    "The other new feature we constructed was to binarization CUSTOMERS.AFFECTED. This type of method helps to separate quantitative values based on a specific threshold. We use the CUSTOMERS.AFFECTED column in order to separate our groups between less than 10000 and greater than or equal to 10000. Our standardization and binarization methods count as new features methods.\n",
    "\n",
    "We added all of our transformed columns of 'MONTH', 'CLIMATE.REGION', 'CLIMATE.CATEGORY', 'OUTAGE.DURATION','CUSTOMERS.AFFECTED', and 'CAUSE.CATEGORY.DETAIL' into a pipeline in order to make an effective prediction. We initally created three different piplines: OneHotEncoder, StdScalarByGroup, and Binarizer. From there we used the ColumnTransformer method in order to combine all of our pipelines together and apply them to the different columns. From there, we create our final pipeline model made from all of the other pipelines, and SVM (Support Vector Machine) in order to identify our predictions as a classifier. We choose to use C=10 as our parameter in the SVC classifier because it helps to create a more accurate outcome.  With that final pipeline, we were able to use our data and split them into test and training datasets. From there we fitted the model to our data and outputted the predictions of the causes of a major power outage using our pipline. Finally, we found our model to be effective and close to the actual data with a range of (R^2) score between 0.80 and 0.85.\n",
    "\n",
    "### Fairness Evaluation\n",
    "Under our fairness evaluation, we chose to use the parity measure of metrics.accuracy_score.  We choose this mode of measure in order to more easily get a list of accuracies between the Central and Northwest climate regions.  For this section, we use a permutation test to measure the accuracy of our final model chosen.  \n",
    "\n",
    "First we get an observation value which incorporates subracting the accuracies between Central and Northwest.  Our simulation runs 1000 times in total to get a list of 1000 accuracy values.  We output a list in order to create a visual distribution with our p-value.  We will denote the significance level as 0.05.  The null hypothesis is that the accuracy for the Central region and Northwest region are on the same distribution.  The alternative hypothesis is that the accuracy for the Northwest region is higher than the accuracy for the Central region and they do not belong on the same distribution.  As a result, our p-value was much higher than 0.05, therefore we accept our null hypothesis.  Our resulting p-value lies within our distribution, so there is little to no randomness occurring.  \n",
    "\n",
    "We can conclude that our model is fair due to the lack of randomness as well as the precision that is shown in our distribution.  There is no bias presented in our final model as shown by our permutation test."
   ]
  },
  {
   "cell_type": "code",
   "execution_count": null,
   "metadata": {},
   "outputs": [],
   "source": []
  },
  {
   "cell_type": "markdown",
   "metadata": {},
   "source": [
    "# Code"
   ]
  },
  {
   "cell_type": "code",
   "execution_count": 1,
   "metadata": {},
   "outputs": [],
   "source": [
    "import matplotlib.pyplot as plt\n",
    "import numpy as np\n",
    "import os\n",
    "import pandas as pd\n",
    "import seaborn as sns\n",
    "%matplotlib inline\n",
    "%config InlineBackend.figure_format = 'retina'  # Higher resolution figures\n",
    "\n",
    "from sklearn.linear_model import LinearRegression\n",
    "from sklearn.preprocessing import FunctionTransformer\n",
    "from sklearn.preprocessing import OneHotEncoder\n",
    "from sklearn.pipeline import Pipeline\n",
    "from sklearn.compose import ColumnTransformer\n",
    "\n",
    "from sklearn.tree import DecisionTreeRegressor\n",
    "from sklearn.base import BaseEstimator, TransformerMixin\n",
    "from sklearn.model_selection import train_test_split\n",
    "from sklearn.preprocessing import Binarizer\n",
    "from sklearn.linear_model import LogisticRegression\n",
    "from sklearn.svm import SVC\n",
    "from sklearn import metrics\n",
    "\n",
    "import warnings\n",
    "warnings.simplefilter('ignore')"
   ]
  },
  {
   "cell_type": "markdown",
   "metadata": {},
   "source": [
    "### Baseline Model"
   ]
  },
  {
   "cell_type": "markdown",
   "metadata": {},
   "source": [
    "Below we are reading and cleaning the inital given data \"outage\", making it easier to work with and visualize. After we clean the data, we create a smaller dataframe, \"bs_outage\" that we will use for our model later on in the project. We only get the applicable columns such as \"MONTH\", \"CLIMATE.REGION\", \"CLIMATE.CATEGORY\", \"OUTAGE.DURATION\", \n",
    "\"CAUSE.CATEGORY\",'CUSTOMERS.AFFECTED', and 'CAUSE.CATEGORY.DETAIL'. From there we clean the values by filling all the categorical NaN values to a new value of \"unknown\". We also filled all the numerical NaN values to 0 because it was best for our specific data. For example, for a month that has a NaN value, by replacing it with 0, we made a new month that contains all the power outages that have an unknown month value. We figured this was the best way to clean our data. After conducting all that cleaning, we now have out dataframe that we can work with and use in our Pipeline model. "
   ]
  },
  {
   "cell_type": "code",
   "execution_count": 2,
   "metadata": {},
   "outputs": [
    {
     "data": {
      "text/html": [
       "<div>\n",
       "<style scoped>\n",
       "    .dataframe tbody tr th:only-of-type {\n",
       "        vertical-align: middle;\n",
       "    }\n",
       "\n",
       "    .dataframe tbody tr th {\n",
       "        vertical-align: top;\n",
       "    }\n",
       "\n",
       "    .dataframe thead th {\n",
       "        text-align: right;\n",
       "    }\n",
       "</style>\n",
       "<table border=\"1\" class=\"dataframe\">\n",
       "  <thead>\n",
       "    <tr style=\"text-align: right;\">\n",
       "      <th>4</th>\n",
       "      <th>MONTH</th>\n",
       "      <th>CLIMATE.REGION</th>\n",
       "      <th>CLIMATE.CATEGORY</th>\n",
       "      <th>OUTAGE.DURATION</th>\n",
       "      <th>CAUSE.CATEGORY</th>\n",
       "      <th>CUSTOMERS.AFFECTED</th>\n",
       "      <th>CAUSE.CATEGORY.DETAIL</th>\n",
       "    </tr>\n",
       "  </thead>\n",
       "  <tbody>\n",
       "    <tr>\n",
       "      <th>0</th>\n",
       "      <td>7</td>\n",
       "      <td>East North Central</td>\n",
       "      <td>normal</td>\n",
       "      <td>3060</td>\n",
       "      <td>severe weather</td>\n",
       "      <td>70000</td>\n",
       "      <td>unknown</td>\n",
       "    </tr>\n",
       "    <tr>\n",
       "      <th>1</th>\n",
       "      <td>5</td>\n",
       "      <td>East North Central</td>\n",
       "      <td>normal</td>\n",
       "      <td>1</td>\n",
       "      <td>intentional attack</td>\n",
       "      <td>0</td>\n",
       "      <td>vandalism</td>\n",
       "    </tr>\n",
       "    <tr>\n",
       "      <th>2</th>\n",
       "      <td>10</td>\n",
       "      <td>East North Central</td>\n",
       "      <td>cold</td>\n",
       "      <td>3000</td>\n",
       "      <td>severe weather</td>\n",
       "      <td>70000</td>\n",
       "      <td>heavy wind</td>\n",
       "    </tr>\n",
       "    <tr>\n",
       "      <th>3</th>\n",
       "      <td>6</td>\n",
       "      <td>East North Central</td>\n",
       "      <td>normal</td>\n",
       "      <td>2550</td>\n",
       "      <td>severe weather</td>\n",
       "      <td>68200</td>\n",
       "      <td>thunderstorm</td>\n",
       "    </tr>\n",
       "    <tr>\n",
       "      <th>4</th>\n",
       "      <td>7</td>\n",
       "      <td>East North Central</td>\n",
       "      <td>warm</td>\n",
       "      <td>1740</td>\n",
       "      <td>severe weather</td>\n",
       "      <td>250000</td>\n",
       "      <td>unknown</td>\n",
       "    </tr>\n",
       "  </tbody>\n",
       "</table>\n",
       "</div>"
      ],
      "text/plain": [
       "4  MONTH      CLIMATE.REGION CLIMATE.CATEGORY  OUTAGE.DURATION  \\\n",
       "0      7  East North Central           normal             3060   \n",
       "1      5  East North Central           normal                1   \n",
       "2     10  East North Central             cold             3000   \n",
       "3      6  East North Central           normal             2550   \n",
       "4      7  East North Central             warm             1740   \n",
       "\n",
       "4      CAUSE.CATEGORY  CUSTOMERS.AFFECTED CAUSE.CATEGORY.DETAIL  \n",
       "0      severe weather               70000               unknown  \n",
       "1  intentional attack                   0             vandalism  \n",
       "2      severe weather               70000            heavy wind  \n",
       "3      severe weather               68200          thunderstorm  \n",
       "4      severe weather              250000               unknown  "
      ]
     },
     "execution_count": 2,
     "metadata": {},
     "output_type": "execute_result"
    }
   ],
   "source": [
    "# original dataset\n",
    "outage = pd.read_excel('outage.xlsx')\n",
    "outage.columns = outage.iloc[4]\n",
    "outage = outage.iloc[6:].reset_index().drop([\"variables\", \"index\", \"OBS\"], axis = 1)\n",
    "\n",
    "# clean dataset\n",
    "bs_outage = outage[[\"MONTH\", \"CLIMATE.REGION\", \"CLIMATE.CATEGORY\", \"OUTAGE.DURATION\", \"CAUSE.CATEGORY\",'CUSTOMERS.AFFECTED', 'CAUSE.CATEGORY.DETAIL']]\n",
    "bs_outage['MONTH'] = bs_outage['MONTH'].fillna(0)\n",
    "bs_outage[\"OUTAGE.DURATION\"] = bs_outage[\"OUTAGE.DURATION\"].fillna(0)\n",
    "bs_outage['CLIMATE.CATEGORY'] = bs_outage['CLIMATE.CATEGORY'].fillna(\"unknown\")\n",
    "bs_outage[\"CLIMATE.REGION\"] = bs_outage[\"CLIMATE.REGION\"].fillna(\"unknown\")\n",
    "bs_outage['CUSTOMERS.AFFECTED'] = bs_outage['CUSTOMERS.AFFECTED'].fillna(0)\n",
    "bs_outage['CAUSE.CATEGORY.DETAIL'] = bs_outage['CAUSE.CATEGORY.DETAIL'].fillna(\"unknown\")\n",
    "bs_outage.head()"
   ]
  },
  {
   "cell_type": "markdown",
   "metadata": {},
   "source": [
    "In our baseline model which consists of tranforming the columns \"CLIMATE.REGION\" and  \"CLIMATE.CATEGORY\" by One Hot Encoder, we build the baseline model. From simply just that transformation, we can see that our prediction accuracy is not very accurate. "
   ]
  },
  {
   "cell_type": "code",
   "execution_count": 3,
   "metadata": {},
   "outputs": [
    {
     "data": {
      "text/plain": [
       "0.6041666666666666"
      ]
     },
     "execution_count": 3,
     "metadata": {},
     "output_type": "execute_result"
    }
   ],
   "source": [
    "# baseline model, outcome score lower than final model score\n",
    "def baseline_model(bs_outage):\n",
    "\n",
    "    #categorical_columns \n",
    "    cat_cols = [\"CLIMATE.REGION\", \"CLIMATE.CATEGORY\"]\n",
    "\n",
    "    #transformers\n",
    "    cat_transformer = Pipeline([('one-hot', OneHotEncoder(handle_unknown = 'ignore'))])\n",
    "    \n",
    "    #column transformer\n",
    "    preproc = ColumnTransformer(transformers=[('cat', cat_transformer, cat_cols)]) \n",
    "    \n",
    "    #pipeline to return \n",
    "    pl = Pipeline(steps=[('preprocessor', preproc), (\"tree\", SVC())])\n",
    "\n",
    "    X = bs_outage.drop(\"CAUSE.CATEGORY\", axis = 1)\n",
    "    y = bs_outage[\"CAUSE.CATEGORY\"]\n",
    "    \n",
    "    # split data\n",
    "    X_train, X_test, y_train, y_test = train_test_split(X, y)\n",
    "    pl.fit(X_train, y_train)\n",
    "\n",
    "    return pl.score(X_test, y_test)\n",
    "\n",
    "baseline_model(bs_outage)"
   ]
  },
  {
   "cell_type": "markdown",
   "metadata": {},
   "source": [
    "### Final Model"
   ]
  },
  {
   "cell_type": "markdown",
   "metadata": {},
   "source": [
    "For one of our new features, we chose to use Standard Scaler By Group.  We use this because we want to standardize the quantitative columns.  We later choose to standardize the OUTAGE.DURATION column which is grouped by the MONTH column.  This helps us scale all our durations in order to more easily assess our data in the final model."
   ]
  },
  {
   "cell_type": "code",
   "execution_count": 4,
   "metadata": {},
   "outputs": [],
   "source": [
    "class StdScalerByGroup(BaseEstimator, TransformerMixin):\n",
    "    \n",
    "    def __init__(self):\n",
    "        pass\n",
    "\n",
    "    def fit(self, X, y=None):\n",
    "        # X may not be a pandas dataframe (e.g. a np.array)\n",
    "        df = pd.DataFrame(X)\n",
    "        \n",
    "        # A table of means/standard-deviations for each column, for each group.\n",
    "        #first dictionary is the means, second dictionary are the stds\n",
    "        self.grps_ = [df.groupby(df.iloc[:, 0]).mean(),df.groupby(df.iloc[:, 0]).std()]\n",
    "\n",
    "        return self\n",
    "\n",
    "    def transform(self, X, y=None):\n",
    "\n",
    "        try:\n",
    "            getattr(self, \"grps_\")\n",
    "        except AttributeError:\n",
    "            raise RuntimeError(\"You must fit the transformer before tranforming the data!\")\n",
    "        \n",
    "\n",
    "        # X may not be a dataframe (e.g. np.array)\n",
    "        df = pd.DataFrame(X)\n",
    "        stds = self.grps_[1]\n",
    "        means = self.grps_[0]\n",
    "  \n",
    "        output = []\n",
    "        for i in df.drop(df.columns[0], axis = 1):\n",
    "            a = df.iloc[:,0]\n",
    "            means_col = means[i][a]\n",
    "            std_col = stds[i][a]\n",
    "            output.append((df[i].values - means_col.values)/ std_col.values)\n",
    "    \n",
    "        for i in range(df.drop(df.columns[0], axis = 1).shape[1]):\n",
    "            df.iloc[:, i+1] = output[i]\n",
    "            \n",
    "        return df.drop(df.columns[0], axis = 1).fillna(0)"
   ]
  },
  {
   "cell_type": "markdown",
   "metadata": {},
   "source": [
    "For our Final Model, we use the following two new features: StdScalerByGroup and Binarizer.  The StdScalerByGroup is a new feature because we use a specific column to standardize each value within a column.  The binarizer changes values greater than or equal to 10000 to be 1 and everything below 10000 to be 0.  In addition to these two new engineered features, we also use OneHotEncoder here because we want to work with the nominal columns within the dataset."
   ]
  },
  {
   "cell_type": "code",
   "execution_count": 5,
   "metadata": {},
   "outputs": [
    {
     "data": {
      "text/plain": [
       "0.8046875"
      ]
     },
     "execution_count": 5,
     "metadata": {},
     "output_type": "execute_result"
    }
   ],
   "source": [
    "def final_model(bs_outage):\n",
    "    \n",
    "    num_cols = ['CUSTOMERS.AFFECTED']\n",
    "    \n",
    "    #categorical_columns \n",
    "    cat_cols = [\"CLIMATE.REGION\", \"CLIMATE.CATEGORY\", 'CAUSE.CATEGORY.DETAIL']\n",
    "\n",
    "    #transformers\n",
    "    cat_transformer = Pipeline([('one-hot', OneHotEncoder(handle_unknown = 'ignore'))])\n",
    "    std_transformer = Pipeline([(\"stdscalar\", StdScalerByGroup())])\n",
    "    bin_transformer = Pipeline([(\"binarize\", Binarizer(10000))])\n",
    "    \n",
    "    #column transformer\n",
    "    preproc = ColumnTransformer(transformers=[(\"bin\", bin_transformer, num_cols),('cat', cat_transformer, cat_cols), ('std', std_transformer, ['MONTH', 'OUTAGE.DURATION'])]) \n",
    "    \n",
    "    #pipeline to return \n",
    "    pl = Pipeline(steps=[('preprocessor', preproc), (\"tree\", SVC(C=10))])\n",
    "\n",
    "    X = bs_outage.drop(\"CAUSE.CATEGORY\", axis = 1)\n",
    "    y = bs_outage[\"CAUSE.CATEGORY\"]\n",
    "    \n",
    "    X_train, X_test, y_train, y_test = train_test_split(X, y)\n",
    "    pl.fit(X_train, y_train)\n",
    "\n",
    "    return pl.score(X_test, y_test)\n",
    "\n",
    "final_model(bs_outage)"
   ]
  },
  {
   "cell_type": "code",
   "execution_count": null,
   "metadata": {},
   "outputs": [],
   "source": []
  },
  {
   "cell_type": "markdown",
   "metadata": {},
   "source": [
    "### Fairness Evaluation"
   ]
  },
  {
   "cell_type": "raw",
   "metadata": {},
   "source": [
    "For the fairness evaluation, we use our final model on our two subgroups: Central and Northwest.  The parity measure we chose was the metrics.accuracy_score.  We use this type of parity measure because it makes it easier to compare the values to one another.  This also helps us compare the values in comparison to the overall distribution.  Here we output a list of accuracy scores with the help of a parity measure."
   ]
  },
  {
   "cell_type": "code",
   "execution_count": 6,
   "metadata": {},
   "outputs": [
    {
     "data": {
      "text/plain": [
       "0    0.000532\n",
       "1    0.033648\n",
       "2   -0.016026\n",
       "3    0.017090\n",
       "4    0.066764\n",
       "dtype: float64"
      ]
     },
     "execution_count": 6,
     "metadata": {},
     "output_type": "execute_result"
    }
   ],
   "source": [
    "# model\n",
    "num_cols = ['CUSTOMERS.AFFECTED']\n",
    "    \n",
    "#categorical_columns \n",
    "cat_cols = [\"CLIMATE.REGION\", \"CLIMATE.CATEGORY\", 'CAUSE.CATEGORY.DETAIL']\n",
    "\n",
    "#transformers\n",
    "cat_transformer = Pipeline([('one-hot', OneHotEncoder(handle_unknown = 'ignore'))])\n",
    "std_transformer = Pipeline([(\"stdscalar\", StdScalerByGroup())])\n",
    "bin_transformer = Pipeline([(\"binarize\", Binarizer(10000))])\n",
    "\n",
    "#column transformer\n",
    "preproc = ColumnTransformer(transformers=[(\"bin\", bin_transformer, num_cols),('cat', cat_transformer, cat_cols), ('std', std_transformer, ['MONTH', 'OUTAGE.DURATION'])]) \n",
    "\n",
    "bs_outage_copy = (bs_outage[(bs_outage[\"CLIMATE.REGION\"] == \"Central\") | (bs_outage[\"CLIMATE.REGION\"] == \"Northwest\")]).copy()\n",
    "#pipeline to return \n",
    "pl = Pipeline(steps=[('preprocessor', preproc), (\"tree\", SVC(C=10))])\n",
    "\n",
    "# observed value\n",
    "# fitting the data \n",
    "X_train, X_test, y_train, y_test = train_test_split(bs_outage_copy.drop(\"CAUSE.CATEGORY\", axis = 1), bs_outage_copy['CAUSE.CATEGORY'])\n",
    "pl.fit(X_train, y_train)\n",
    "lst = []\n",
    "df = pd.DataFrame()\n",
    "df['region'] = X_train['CLIMATE.REGION'].reset_index(drop = True)\n",
    "df[\"pred\"] = pl.predict(X_train)#.reset_index(drop = True)\n",
    "df['actual'] = y_train.reset_index(drop = True)\n",
    "\n",
    "obs= df.groupby('region').apply(lambda x: metrics.accuracy_score(x.actual, x.pred)).diff().iloc[-1]\n",
    "\n",
    "# simulations \n",
    "for i in range(1000):\n",
    "\n",
    "    #Central & Northwest Region\n",
    "    #shuffle the column\n",
    "\n",
    "    df['shuffled_region'] = df['region'].sample(frac = 1.0, replace = False).reset_index(drop = True)\n",
    "    new_stat = df.groupby('shuffled_region').apply(lambda x: metrics.accuracy_score(x.actual, x.pred)).diff().iloc[-1]\n",
    "    lst.append(new_stat)\n",
    "        \n",
    "lst = pd.Series(lst)\n",
    "lst.head()"
   ]
  },
  {
   "cell_type": "code",
   "execution_count": null,
   "metadata": {},
   "outputs": [],
   "source": []
  },
  {
   "cell_type": "markdown",
   "metadata": {},
   "source": [
    "As we see from the code presented here, we compare the observed value to its simulated distribution.  The red dot lies within the distribution, therefore we accept the null hypothesis.  Our p-value is far above the significance level of 0.05, so we see that the subgroups are within the distributions.  There is no difference in accuracies between Central and Northwest.  This shows that there is no randomness present and our final model is concluded as fair."
   ]
  },
  {
   "cell_type": "code",
   "execution_count": 7,
   "metadata": {},
   "outputs": [
    {
     "name": "stdout",
     "output_type": "stream",
     "text": [
      "0.608\n"
     ]
    },
    {
     "data": {
      "image/png": "[encoded data removed]",
      "text/plain": [
       "<Figure size 432x288 with 1 Axes>"
      ]
     },
     "metadata": {
      "image/png": {
       "height": 263,
       "width": 388
      },
      "needs_background": "light"
     },
     "output_type": "display_data"
    }
   ],
   "source": [
    "# GET DISTRIBUTION\n",
    "print(pd.Series(lst >= obs).mean())\n",
    "pd.Series(lst.plot(kind='hist', title='Permutation Test Accuracies for Central and Northwest'))\n",
    "plt.scatter(obs, 0, c='r');"
   ]
  },
  {
   "cell_type": "code",
   "execution_count": null,
   "metadata": {},
   "outputs": [],
   "source": []
  }
 ],
 "metadata": {
  "kernelspec": {
   "display_name": "Python 3",
   "language": "python",
   "name": "python3"
  },
  "language_info": {
   "codemirror_mode": {
    "name": "ipython",
    "version": 3
   },
   "file_extension": ".py",
   "mimetype": "text/x-python",
   "name": "python",
   "nbconvert_exporter": "python",
   "pygments_lexer": "ipython3",
   "version": "3.7.3"
  }
 },
 "nbformat": 4,
 "nbformat_minor": 2
}
